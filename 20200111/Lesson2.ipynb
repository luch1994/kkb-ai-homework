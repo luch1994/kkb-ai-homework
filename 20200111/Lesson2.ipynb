{
 "cells": [
  {
   "cell_type": "markdown",
   "metadata": {},
   "source": [
    "![](https://img.kaikeba.com/web/kkb_index/img_index_logo.png)"
   ]
  },
  {
   "cell_type": "markdown",
   "metadata": {},
   "source": [
    "# 人工智能基础课程 Python编程 第二节课"
   ]
  },
  {
   "cell_type": "markdown",
   "metadata": {
    "toc-hr-collapsed": false
   },
   "source": [
    "## 一. 容器\n",
    "1. 列表\n",
    "2. 元组\n",
    "3. 集合\n",
    "4. 字典"
   ]
  },
  {
   "cell_type": "markdown",
   "metadata": {},
   "source": [
    "### 1. 列表"
   ]
  },
  {
   "cell_type": "markdown",
   "metadata": {},
   "source": [
    "比如我们平常上课，老师要点名。  \n",
    "假如我们班有五个人，张一，张二......一直到张五。  \n",
    "那么每个人喊道应该是下面代码"
   ]
  },
  {
   "cell_type": "code",
   "execution_count": null,
   "metadata": {},
   "outputs": [],
   "source": [
    "student1 = '张一'\n",
    "student2 = '张二'\n",
    "student3 = '张三'\n",
    "student4 = '张四'\n",
    "student5 = '张五'\n",
    "\n",
    "print(student1+'到！')\n",
    "print(student2+'到！')\n",
    "print(student3+'到！')\n",
    "print(student4+'到！')\n",
    "print(student5+'到！')"
   ]
  },
  {
   "cell_type": "markdown",
   "metadata": {},
   "source": [
    "这时候呢，写的非常麻烦。  \n",
    "而我们点名都是拿到一个班级的花名册来点名。  \n",
    "这个花名册是把这个班级的名称都放在了一起。  \n",
    "那么python里怎么表示班级这个学生花名册呢？  \n",
    "可以用**列表**！"
   ]
  },
  {
   "cell_type": "markdown",
   "metadata": {},
   "source": [
    "列表的格式：\n",
    "``` python\n",
    "['张一','张二','张三','张四','张五']\n",
    "```\n",
    "\n",
    "关键点：**中括号**，**逗号**  \n",
    "\n",
    "然后我们把这个对象保存到变量上\n",
    "``` python\n",
    "class_1 = ['张一','张二','张三','张四','张五']\n",
    "```"
   ]
  },
  {
   "cell_type": "code",
   "execution_count": null,
   "metadata": {},
   "outputs": [],
   "source": [
    "class_1 = ['张一','张二','张三','张四','张五']\n",
    "print(class_1)"
   ]
  },
  {
   "cell_type": "code",
   "execution_count": null,
   "metadata": {},
   "outputs": [],
   "source": [
    "list_temp = []  # 空列表的声明"
   ]
  },
  {
   "cell_type": "code",
   "execution_count": null,
   "metadata": {},
   "outputs": [],
   "source": [
    "from_tuple = list((1,2,3))   # 使用list关键字创建列表\n",
    "print(from_tuple)"
   ]
  },
  {
   "cell_type": "markdown",
   "metadata": {},
   "source": [
    "有个这个列表对象，  \n",
    "代码少了很多，那我们怎么取到里面的东西呢"
   ]
  },
  {
   "cell_type": "markdown",
   "metadata": {},
   "source": [
    "首先，列表理解成一个连续的格子，然后每个格子都放了东西。  \n",
    "当然，这一系列的格子都有东西放。  \n",
    "每个格子都有一个标号，有了标号，我们找东西就可以直接说  \n",
    "*帮我拿一下第三个格子里的东西！*  \n",
    "然后你就数格子，数到第三个格子，你就把里面的东西拿出来。"
   ]
  },
  {
   "cell_type": "markdown",
   "metadata": {},
   "source": [
    "列表的工作原理就是一个连续的格子，想拿里面的对象，你就告诉列表你要的标号就行了。  \n",
    "不过需要注意的是  \n",
    "在编程语言世界里，第一个标号，是0！"
   ]
  },
  {
   "cell_type": "code",
   "execution_count": null,
   "metadata": {},
   "outputs": [],
   "source": [
    "class_1 = ['张一','张二','张三','张四','张五']\n",
    "class_1[0]"
   ]
  },
  {
   "cell_type": "code",
   "execution_count": null,
   "metadata": {},
   "outputs": [],
   "source": [
    "# 将上面的代码重写下就是\n",
    "\n",
    "class_1 = ['张一','张二','张三','张四','张五']\n",
    "print(class_1[0]+'到！')\n",
    "print(class_1[1]+'到！')\n",
    "print(class_1[2]+'到！')\n",
    "print(class_1[3]+'到！')\n",
    "print(class_1[4]+'到！')\n",
    "\n",
    "# 所以最大的标号(索引, index)是长度-1"
   ]
  },
  {
   "cell_type": "markdown",
   "metadata": {},
   "source": [
    "上面是说每次都知道了一个学生的名字。  \n",
    "那假如我想知道花名册最后两个人来没来呢？  \n",
    "我们首先想到的是先到花名册最后，然后数出两个人然后再把这两个人名字拿到。  \n",
    "再稍微转换成编程思想，你应该能想到的。  \n",
    "首先我们有五个人，取到最后两个人，所以我应该从第4个人开始取，取两个人  \n",
    "因为编程里Index是要-1，所以应该取3 4两个位置"
   ]
  },
  {
   "cell_type": "code",
   "execution_count": null,
   "metadata": {},
   "outputs": [],
   "source": [
    "# 最后两个人到了没?\n",
    "\n",
    "class_1 = ['张一','张二','张三','张四','张五']\n",
    "print(class_1[3]+'到!')\n",
    "print(class_1[4]+'到!')"
   ]
  },
  {
   "cell_type": "code",
   "execution_count": null,
   "metadata": {},
   "outputs": [],
   "source": [
    "# 最后两个人到了没?\n",
    "\n",
    "start = int(input())\n",
    "nums = int(input())\n",
    "\n",
    "start_index = start-1\n",
    "print(class_1[start_index]+'到')\n",
    "print(class_1[start_index+1]+'到')"
   ]
  },
  {
   "cell_type": "markdown",
   "metadata": {},
   "source": [
    "那么问题来了！  \n",
    "Python作为一门强大的 高级的 简单的 编程语言，  \n",
    "怎么可能不提供一些更方便的操作呢？  \n",
    "答案当然是ok的"
   ]
  },
  {
   "cell_type": "markdown",
   "metadata": {},
   "source": [
    "``` python\n",
    "class_1 = ['张一','张二','张三','张四','张五']\n",
    "class_1[3:5]\n",
    "```\n",
    "列表[起始index : 末尾index(不包含)]"
   ]
  },
  {
   "cell_type": "code",
   "execution_count": null,
   "metadata": {},
   "outputs": [],
   "source": [
    "# 注意 这里5是没有取到的\n",
    "# 所以是取 3 4\n",
    "class_1[3:5]"
   ]
  },
  {
   "cell_type": "code",
   "execution_count": null,
   "metadata": {},
   "outputs": [],
   "source": [
    "# 如果直接取5会报错\n",
    "class_1[5]"
   ]
  },
  {
   "cell_type": "markdown",
   "metadata": {},
   "source": [
    "只有5个 大于5的都有问题  \n",
    "那么问题来了如果你放个负数呢?"
   ]
  },
  {
   "cell_type": "code",
   "execution_count": null,
   "metadata": {},
   "outputs": [],
   "source": [
    "class_1[-1]"
   ]
  },
  {
   "cell_type": "markdown",
   "metadata": {},
   "source": [
    "看到没  居然没有出错！  \n",
    "所以这就是python又简单又强大"
   ]
  },
  {
   "cell_type": "code",
   "execution_count": null,
   "metadata": {},
   "outputs": [],
   "source": [
    "print(class_1[-1])\n",
    "print(class_1[-2])\n",
    "print(class_1[-3])\n",
    "print(class_1[-4])\n",
    "print(class_1[-5])"
   ]
  },
  {
   "cell_type": "code",
   "execution_count": null,
   "metadata": {},
   "outputs": [],
   "source": [
    "# 那么刚才的代码就能写成这样\n",
    "class_1[-2:]"
   ]
  },
  {
   "cell_type": "markdown",
   "metadata": {},
   "source": [
    "那么新需求又来了  \n",
    "新来了转班生该怎么办?辍学了的同学应该怎么处理？同学名字错了怎么办？"
   ]
  },
  {
   "cell_type": "code",
   "execution_count": null,
   "metadata": {},
   "outputs": [],
   "source": [
    "class_1.append('张溜')"
   ]
  },
  {
   "cell_type": "code",
   "execution_count": null,
   "metadata": {},
   "outputs": [],
   "source": [
    "print(class_1)"
   ]
  },
  {
   "cell_type": "code",
   "execution_count": null,
   "metadata": {},
   "outputs": [],
   "source": [
    "class_1[-1] = '张六'\n",
    "print(class_1)"
   ]
  },
  {
   "cell_type": "code",
   "execution_count": null,
   "metadata": {},
   "outputs": [],
   "source": [
    "class_1+['张七']"
   ]
  },
  {
   "cell_type": "markdown",
   "metadata": {},
   "source": [
    "``` python\n",
    "remove('里面的对象')\n",
    "```\n",
    "如果没有，会报错"
   ]
  },
  {
   "cell_type": "code",
   "execution_count": null,
   "metadata": {},
   "outputs": [],
   "source": [
    "class_1.remove('张六')\n",
    "print(class_1)"
   ]
  },
  {
   "cell_type": "markdown",
   "metadata": {},
   "source": [
    "``` python\n",
    "pop(index)\n",
    "```\n",
    "pop方法需要传入index值"
   ]
  },
  {
   "cell_type": "code",
   "execution_count": null,
   "metadata": {},
   "outputs": [],
   "source": [
    "class_1 = ['张一', '张二', '张三', '张四', '张五']\n",
    "class_1.pop(1)\n",
    "print(class_1)"
   ]
  },
  {
   "cell_type": "markdown",
   "metadata": {},
   "source": [
    "总结一下列表的使用：  \n",
    "- 列表\n",
    "- 列表的使用：单值&多值(切片)\n",
    "- 列表的添加\n",
    "- 列表的删除\n",
    "- 列表的修改\n",
    "\n",
    "高阶用法：\n",
    "列表反转, 列表解析，extend"
   ]
  },
  {
   "cell_type": "markdown",
   "metadata": {},
   "source": [
    "### 2. 元组"
   ]
  },
  {
   "cell_type": "markdown",
   "metadata": {},
   "source": [
    "元组跟列表很像  \n",
    "唯一的区别是  \n",
    "元组在创建完成后不能修改，元组用圆括号()，列表用方括号[]"
   ]
  },
  {
   "cell_type": "code",
   "execution_count": null,
   "metadata": {},
   "outputs": [],
   "source": [
    "tuple_temp = (2,)    # 包含单个元素元组的声明方法\n",
    "print(type(tuple_temp))\n",
    "num_temp = (2)\n",
    "print(type(num_temp))"
   ]
  },
  {
   "cell_type": "code",
   "execution_count": null,
   "metadata": {},
   "outputs": [],
   "source": [
    "empty_tuple = ()     # 空元组的创建，亦可用 empty_tuple = tuple()\n",
    "print(type(empty_tuple))"
   ]
  },
  {
   "cell_type": "code",
   "execution_count": null,
   "metadata": {},
   "outputs": [],
   "source": [
    "class_2 = ('张一', '张二', '张三', '张四', '张五')\n",
    "print(class_2)"
   ]
  },
  {
   "cell_type": "code",
   "execution_count": null,
   "metadata": {},
   "outputs": [],
   "source": [
    "class_2[0]"
   ]
  },
  {
   "cell_type": "code",
   "execution_count": null,
   "metadata": {},
   "outputs": [],
   "source": [
    "class_2[0] = '新张三'     # 元组元素不可更改"
   ]
  },
  {
   "cell_type": "code",
   "execution_count": null,
   "metadata": {},
   "outputs": [],
   "source": [
    "class_2.append('张六')    # 元组不可增减元素"
   ]
  },
  {
   "cell_type": "markdown",
   "metadata": {},
   "source": [
    "### 3. 集合"
   ]
  },
  {
   "cell_type": "code",
   "execution_count": null,
   "metadata": {},
   "outputs": [],
   "source": [
    "class_1 = ['张一', '张二', '张三', '张四', '张五', '张二']\n",
    "class_2 = ('张一', '张二', '张三', '张四', '张五', '张二')"
   ]
  },
  {
   "cell_type": "code",
   "execution_count": null,
   "metadata": {},
   "outputs": [],
   "source": [
    "class_3 = {'张一', '张二', '张三', '张四', '张五', '张二'}\n",
    "print(class_3)"
   ]
  },
  {
   "cell_type": "code",
   "execution_count": null,
   "metadata": {},
   "outputs": [],
   "source": [
    "empty_set = set()   # 创建空集合的方式，注意，若用花括号{}的话，创建的事空字典\n",
    "print(type(empty_set))"
   ]
  },
  {
   "cell_type": "markdown",
   "metadata": {},
   "source": [
    "集合的特点是啥?  \n",
    "是不能够放重复的东西！  \n",
    "\n",
    "比如我要统计一段文本中的字，组成一个词典"
   ]
  },
  {
   "cell_type": "code",
   "execution_count": null,
   "metadata": {},
   "outputs": [],
   "source": [
    "s = ['西汉', '桑弘羊', '主持', '的', '盐', '铁官营', '，', '在', '各', '郡', '设', '盐铁', '官署', '，', '严禁', '私人', '生产', '，', '“', '敢', '私', '铸铁', '器', '，', '煮', '盐者', '，', '钛', '左', '趾', '，', '没人', '其', '器物', '”', '。', '这', '反映', '了', '汉武帝', '时期', '政府', '增加', '财政', '收人', '的', '迫切需要', '。', '构成', '这', '段', '文字', '的', '是', '（', '）', 'A', '历史', '观点', '和', '历史', '解释', 'B', '历史', '观点', '和', '历史', '结论', 'C', '历史', '结论', '和', '历史', '解释', 'D', '历史', '叙述', '和', '历史', '解释']\n",
    "print(''.join(s))\n",
    "\n",
    "print('这段话一共有',len(s),'个单词')"
   ]
  },
  {
   "cell_type": "code",
   "execution_count": null,
   "metadata": {},
   "outputs": [],
   "source": [
    "print(\"这段话一共有\", len(set(s)), \"不同的单词\")"
   ]
  },
  {
   "cell_type": "markdown",
   "metadata": {},
   "source": [
    "集合最常用的操作就是用来去重！  \n",
    "当然，我们也能往里面添加元素  "
   ]
  },
  {
   "cell_type": "code",
   "execution_count": null,
   "metadata": {},
   "outputs": [],
   "source": [
    "# 假设微博用户来给你文章投票\n",
    "# 我们可以用list来存储浏览历史\n",
    "# 不是看点击次数 而是看有多少人\n",
    "# 那么就不能用list\n",
    "user_nos = set()\n",
    "\n",
    "user_nos.add('哆啦A梦')\n",
    "user_nos.add('哪吒')\n",
    "user_nos.add('死侍')\n",
    "user_nos.add('死侍')\n",
    "print(user_nos)"
   ]
  },
  {
   "cell_type": "markdown",
   "metadata": {},
   "source": [
    "当然，我们可以在用户投票之前先看看他之前投过没有："
   ]
  },
  {
   "cell_type": "code",
   "execution_count": null,
   "metadata": {},
   "outputs": [],
   "source": [
    "print('死侍' in user_nos)"
   ]
  },
  {
   "cell_type": "markdown",
   "metadata": {},
   "source": [
    "这个知识点理解了吗？  \n",
    "理解的post 1 没有的post 2  \n",
    "我们就拿你们的聊天记录来做个练习  \n",
    "我先处理一下你们的聊天内容  \n",
    "如果集合只有1，就代表着所有人都会了 对吧\n",
    "\n",
    "\n",
    "好 这是你们的list\n",
    "我们来set一下"
   ]
  },
  {
   "cell_type": "code",
   "execution_count": null,
   "metadata": {},
   "outputs": [],
   "source": [
    "flags = [1,1,2,1,1,1,1,1,1,1,1,2,1,1,1,1,1,1,1,1,1,1,1]\n",
    "flags = set(flags)\n",
    "print('所有人都掌握了集合的用法：', len(flags) == 1)"
   ]
  },
  {
   "cell_type": "code",
   "execution_count": null,
   "metadata": {},
   "outputs": [],
   "source": [
    "artic1_clicked = ['哆啦A梦','哪吒','死侍','死侍','死侍','死侍','死侍','哪吒']\n",
    "artic2_clicked = ['罗小黑','哪吒','死侍','漩涡鸣人','死侍','钢铁侠','死侍','哪吒','罗小黑']\n",
    "\n",
    "print('文章1的阅读量：',len(artic1_clicked))\n",
    "print('文章2的阅读量：',len(artic2_clicked))\n",
    "artic1_readers = set(artic1_clicked)\n",
    "artic2_readers = set(artic2_clicked)\n",
    "print('文章1的阅读人数：',len(artic1_readers),'分别是',artic1_readers)\n",
    "print('文章2的阅读人数：',len(artic2_readers),'分别是',artic2_readers)"
   ]
  },
  {
   "cell_type": "markdown",
   "metadata": {},
   "source": [
    "这样，artic1_readers，artic2_readers都记录了当前文章的已阅读人数(并不是点击次数，去重)。  \n",
    "那么如果我想要之道这两篇文章一共被哪些人查看了呢？"
   ]
  },
  {
   "cell_type": "code",
   "execution_count": null,
   "metadata": {},
   "outputs": [],
   "source": [
    "artic1_readers | artic2_readers   # 求集合的并集"
   ]
  },
  {
   "cell_type": "markdown",
   "metadata": {},
   "source": [
    "哪些人两个文章都看了呢?"
   ]
  },
  {
   "cell_type": "code",
   "execution_count": null,
   "metadata": {},
   "outputs": [],
   "source": [
    "artic1_readers & artic2_readers   # 求集合的交集"
   ]
  },
  {
   "cell_type": "markdown",
   "metadata": {},
   "source": [
    "只看了文章1，而没有看文章2的人有哪些？"
   ]
  },
  {
   "cell_type": "code",
   "execution_count": null,
   "metadata": {},
   "outputs": [],
   "source": [
    "artic1_readers - artic2_readers   # 求集合的差集"
   ]
  },
  {
   "cell_type": "markdown",
   "metadata": {},
   "source": [
    "- 交集`&` 在两个集合中都存在的元素\n",
    "- 并集`|` 将两个集合元素合并在一起\n",
    "- 差集 '-' 属于前者而不属于后者的元素"
   ]
  },
  {
   "cell_type": "markdown",
   "metadata": {},
   "source": [
    "### 4. 字典"
   ]
  },
  {
   "cell_type": "code",
   "execution_count": null,
   "metadata": {},
   "outputs": [],
   "source": [
    "artic1_clicked = ['哆啦A梦','哪吒','死侍','死侍','死侍','死侍','死侍','哪吒']\n",
    "artic2_clicked = ['罗小黑','哪吒','死侍','漩涡鸣人','死侍','钢铁侠','死侍','哪吒','罗小黑']\n",
    "artic3_clicked = ['死侍','漩涡鸣人','死侍','钢铁侠','小丑']\n",
    "\n",
    "all_users = set(artic1_clicked) | set(artic2_clicked) | set(artic3_clicked)\n",
    "print(all_users)"
   ]
  },
  {
   "cell_type": "markdown",
   "metadata": {},
   "source": [
    "现在，有三篇文章的点击历史，  \n",
    "也有用户的汇总，  \n",
    "我想创建一个表格，  \n",
    "这个表格是两列，第一列是用户，第二列是用户看了几篇文章"
   ]
  },
  {
   "cell_type": "markdown",
   "metadata": {},
   "source": [
    "那么python作为简单而强大的编程语言，能不能表示这种东西呢？  \n",
    "当然可以，就是使用**字典**\n",
    "``` python\n",
    "user_read = {'哪吒':3,'死侍':3,'小丑':1}\n",
    "```\n",
    "\n",
    "一对花括号， 里面元素是成对出现的， 左边的元素叫做**键**key，右边的元素叫做**值**value。  \n",
    "所以字典存放的是**键值对**的数据。\n",
    "\n",
    "\n",
    "字典和列表很相似，都有有名称、赋值号、逗号做间隔，逗号间隔的还叫元素。\n",
    "而不一样的是，字典每个元素元素由键与值组成，而列表不是；字典外层使用大括号{}， 列表外层使用中括号[ ]"
   ]
  },
  {
   "cell_type": "code",
   "execution_count": null,
   "metadata": {},
   "outputs": [],
   "source": [
    "# 比如我们改写 list 为键值对\n",
    "artic1_clicked = ['哆啦A梦','哪吒','死侍','死侍','死侍','死侍','死侍','哪吒']\n",
    "dict_artic1_clicked = {\n",
    "    0:'哆啦A梦',\n",
    "    1:'哪吒',\n",
    "    2:'死侍',\n",
    "    3:'死侍',\n",
    "    4:'死侍',\n",
    "    5:'死侍',\n",
    "    6:'死侍',\n",
    "    7:'死侍',\n",
    "    8:'哪吒'\n",
    "}\n",
    "\n",
    "\n",
    "index = 1\n",
    "print(artic1_clicked[index])\n",
    "print(dict_artic1_clicked[index])"
   ]
  },
  {
   "cell_type": "code",
   "execution_count": null,
   "metadata": {},
   "outputs": [],
   "source": [
    "# 如果你的key是字符串， 那么你取的时候也得放字符串\n",
    "dict_artic1_clicked = {\n",
    "    '0':'哆啦A梦',\n",
    "    '1':'哪吒',\n",
    "    '2':'死侍',\n",
    "    '3':'死侍',\n",
    "    '4':'死侍',\n",
    "    '5':'死侍',\n",
    "    '6':'死侍',\n",
    "    '7':'死侍',\n",
    "    '8':'哪吒'\n",
    "}\n",
    "dict_artic1_clicked['2']"
   ]
  },
  {
   "cell_type": "markdown",
   "metadata": {},
   "source": [
    "通过这个例子你能发现，字典里的值是可以重复的，那么key呢?  \n",
    "是不能重复的！  \n",
    "key就像一张身份证，每个人的身份证是唯一的，但名字可能不一样。  \n",
    "如果key一样，其实是覆盖了前面的value。其实就是修改字典的值。"
   ]
  },
  {
   "cell_type": "code",
   "execution_count": null,
   "metadata": {},
   "outputs": [],
   "source": [
    "pearson = {1001:'哪吒', 1002:'死侍', 1003:'死侍'}\n",
    "pearson"
   ]
  },
  {
   "cell_type": "code",
   "execution_count": null,
   "metadata": {},
   "outputs": [],
   "source": [
    "pearson = {1001:'哪吒', 1002:'死侍', 1002:'死侍'}\n",
    "pearson"
   ]
  },
  {
   "cell_type": "code",
   "execution_count": null,
   "metadata": {},
   "outputs": [],
   "source": [
    "pearson = {1001:'哪吒', 1002:'死侍', 1002:'死侍_平行空间'}\n",
    "pearson"
   ]
  },
  {
   "cell_type": "markdown",
   "metadata": {},
   "source": [
    "好，我们来继续文章任务  \n",
    "我们可以数出来 哆啦a梦 只阅读了一篇文章，只有一一次  \n",
    "来创建一个字典，然后放进去"
   ]
  },
  {
   "cell_type": "code",
   "execution_count": null,
   "metadata": {},
   "outputs": [],
   "source": [
    "user_read = {'哆啦A梦': 1}\n",
    "print(user_read)"
   ]
  },
  {
   "cell_type": "markdown",
   "metadata": {},
   "source": [
    "然后死侍读了三篇文章，我们添加死侍的记录进去"
   ]
  },
  {
   "cell_type": "code",
   "execution_count": null,
   "metadata": {},
   "outputs": [],
   "source": [
    "user_read['死侍'] = 3\n",
    "print(user_read)"
   ]
  },
  {
   "cell_type": "markdown",
   "metadata": {},
   "source": [
    "可以看到是直接进行赋值，当然这也是修改"
   ]
  },
  {
   "cell_type": "code",
   "execution_count": null,
   "metadata": {},
   "outputs": [],
   "source": [
    "user_read['死侍'] = 5\n",
    "print(user_read)"
   ]
  },
  {
   "cell_type": "markdown",
   "metadata": {},
   "source": [
    "我们这个记录错了，那把它删掉(字典的删除使用不多)"
   ]
  },
  {
   "cell_type": "code",
   "execution_count": null,
   "metadata": {},
   "outputs": [],
   "source": [
    "del user_read['死侍']\n",
    "print(user_read)"
   ]
  },
  {
   "cell_type": "code",
   "execution_count": null,
   "metadata": {},
   "outputs": [],
   "source": [
    "empty_dict = {}  # 空字典的声明"
   ]
  },
  {
   "cell_type": "markdown",
   "metadata": {},
   "source": [
    "## 二. 结构"
   ]
  },
  {
   "cell_type": "markdown",
   "metadata": {},
   "source": [
    "### 1. 判断"
   ]
  },
  {
   "cell_type": "markdown",
   "metadata": {},
   "source": [
    "`if` 的语法\n",
    "``` python\n",
    "if 条件 :\n",
    "    # some code\n",
    "else:\n",
    "    # other code\n",
    "```\n",
    "这个结构的逻辑很清楚，大家都能理解吧？  \n",
    "注意点：冒号 缩进 执行顺序"
   ]
  },
  {
   "cell_type": "code",
   "execution_count": null,
   "metadata": {},
   "outputs": [],
   "source": [
    "num1, num2 = 3 , 5\n",
    "if num1 > num2:\n",
    "    print('第一个数是大于第二个数的')\n",
    "else:\n",
    "    print('第一个数小于或等于第二个数')"
   ]
  },
  {
   "cell_type": "code",
   "execution_count": null,
   "metadata": {},
   "outputs": [],
   "source": [
    "# 一个新的点击历史\n",
    "print(artic1_clicked)\n",
    "print(artic1_readers)\n",
    "\n",
    "new_click = input()\n",
    "\n",
    "artic1_clicked.append(new_click)\n",
    "print(new_click, '已加入到list中，', artic1_clicked)\n",
    "if new_click in artic1_readers:\n",
    "    print(new_click, '并不是第一次阅读!')\n",
    "else:\n",
    "    print(new_click, '是第一次阅读!')"
   ]
  },
  {
   "cell_type": "code",
   "execution_count": null,
   "metadata": {},
   "outputs": [],
   "source": [
    "# 一个新的点击历史\n",
    "print(artic1_clicked)\n",
    "print(artic1_readers)\n",
    "\n",
    "new_click = input()\n",
    "\n",
    "artic1_clicked.append(new_click)\n",
    "print(new_click, '已加入到list中，', artic1_clicked)\n",
    "if new_click in artic1_readers:\n",
    "    print(new_click, '并不是第一次阅读!')\n",
    "else:\n",
    "    print(new_click, '是第一次阅读!')"
   ]
  },
  {
   "cell_type": "code",
   "execution_count": null,
   "metadata": {},
   "outputs": [],
   "source": [
    "# 查看user_read当前所有用户及其阅读量\n",
    "user_read"
   ]
  },
  {
   "cell_type": "code",
   "execution_count": null,
   "metadata": {},
   "outputs": [],
   "source": [
    "# 查看user_read的某个用户的阅读量\n",
    "# 然后数量+1\n",
    "times = user_read['哆啦A梦']\n",
    "print(times)\n",
    "user_read['哆啦A梦'] = times+1\n",
    "print(user_read['哆啦A梦'])\n",
    "\n",
    "\n",
    "# 用变量来表示\n",
    "user = '哆啦A梦'\n",
    "times = user_read[user]\n",
    "print(times)\n",
    "user_read[user] = times + 1\n",
    "print(user_read[user])"
   ]
  },
  {
   "cell_type": "code",
   "execution_count": null,
   "metadata": {},
   "outputs": [],
   "source": [
    "# 来一个空的文件点击历史\n",
    "# 然后实现一个阅读人数和阅读量的实现\n",
    "his = [] # his = list()\n",
    "all_user = set()\n",
    "user_read = dict()\n",
    "\n",
    "print('当前点击历史：', his)\n",
    "print('当前所有用户：', all_user)\n",
    "print('当前用户点击次数：', user_read)\n",
    "\n",
    "reader = input()\n",
    "his.append(reader)\n",
    "if reader in all_user:\n",
    "    print(reader,'不是第一次阅读')\n",
    "    times = user_read[reader]\n",
    "    user_read[reader] = times + 1\n",
    "else:\n",
    "    print(reader, '是第一次阅读')\n",
    "    all_user.add(reader)\n",
    "    user_read[reader] = 1\n",
    "    \n",
    "print('当前点击历史：', his)\n",
    "print('当前所有用户：', all_user)\n",
    "print('当前用户点击次数：', user_read)"
   ]
  },
  {
   "cell_type": "markdown",
   "metadata": {},
   "source": [
    "\n",
    "**插曲**  \n",
    "利用if判断闰年，有电脑的自己尝试一下  \n"
   ]
  },
  {
   "cell_type": "code",
   "execution_count": null,
   "metadata": {},
   "outputs": [],
   "source": [
    "# -*- coding: UTF-8 -*-\n",
    " \n",
    "year = int(input(\"输入一个年份: \"))\n",
    "if (year % 4) == 0:\n",
    "    if (year % 100) == 0:\n",
    "        if (year % 400) == 0:\n",
    "            print(\"{0} 是闰年\".format(year))   # 整百年能被400整除的是闰年\n",
    "        else:\n",
    "            print(\"{0} 不是闰年\".format(year))\n",
    "    else:\n",
    "        print(\"{0} 是闰年\".format(year))       # 非整百年能被4整除的为闰年\n",
    "else:\n",
    "    print(\"{0} 不是闰年\".format(year))\n",
    "    \n",
    "    \n",
    "    \n",
    "# 简化版的代码\n",
    "year = int(input(\"请输入一个年份：\"))\n",
    "if (year % 4) == 0 and (year % 100) != 0 or (year % 400) == 0:\n",
    "    print(\"{0}是闰年\".format(year))\n",
    "else:\n",
    "    print(\"{0}不是闰年\".format(year))"
   ]
  },
  {
   "cell_type": "markdown",
   "metadata": {},
   "source": [
    "### 2. for 循环\n",
    "语法：\n",
    "``` python\n",
    "for 变量 in 列表 : # 叫号\n",
    "    pass          # 当前就诊的人 左边有四个空格的缩进\n",
    "```\n",
    "将每个格子里的东西都拿出来"
   ]
  },
  {
   "cell_type": "code",
   "execution_count": null,
   "metadata": {},
   "outputs": [],
   "source": [
    "for i in range(5):\n",
    "    print(i)"
   ]
  },
  {
   "cell_type": "markdown",
   "metadata": {},
   "source": [
    "我们把上面的代码赋值过来 然后改写  \n",
    "来看看我们的最终效果吧！"
   ]
  },
  {
   "cell_type": "code",
   "execution_count": null,
   "metadata": {},
   "outputs": [],
   "source": [
    "# 来一个空的文件点击历史\n",
    "# 然后实现一个阅读人数和阅读量的实现\n",
    "his = [] # his = list()\n",
    "all_user = set()\n",
    "user_read = dict()\n",
    "\n",
    "for i in range(5):\n",
    "    reader = input()\n",
    "    his.append(reader)\n",
    "    if reader in all_user:\n",
    "        print(reader,'不是第一次阅读')\n",
    "        times = user_read[reader]\n",
    "        user_read[reader] = times + 1\n",
    "    else:\n",
    "        print(reader, '是第一次阅读')\n",
    "        all_user.add(reader)\n",
    "        user_read[reader] = 1\n",
    "    \n",
    "print('当前点击历史：', his)\n",
    "print('当前所有用户：', all_user)\n",
    "print('当前用户点击次数：', user_read)"
   ]
  },
  {
   "cell_type": "markdown",
   "metadata": {},
   "source": [
    "是不是满满的成就感？"
   ]
  },
  {
   "cell_type": "markdown",
   "metadata": {},
   "source": [
    "列表，元组，集合，字典都是存放了多个，我们可以使用for循环来讲每个元素打印出来。"
   ]
  },
  {
   "cell_type": "code",
   "execution_count": null,
   "metadata": {},
   "outputs": [],
   "source": [
    "for click in his:\n",
    "    print(click)\n",
    "print()    \n",
    "for user in all_user:\n",
    "    print(user)\n",
    "print()\n",
    "for user in user_read:\n",
    "    print(user)\n",
    "print()\n",
    "for user,times in user_read.items():\n",
    "    print(user,times)"
   ]
  },
  {
   "cell_type": "markdown",
   "metadata": {},
   "source": [
    "### 3. while循环\n",
    "当型循环，按条件循环，**当什么什么的时候，就怎么怎么样**。\n",
    "\n",
    "``` python \n",
    "while 条件 :\n",
    "    pass # 一般在这里进行某些操作，然后修改条件\n",
    "```"
   ]
  },
  {
   "cell_type": "code",
   "execution_count": null,
   "metadata": {},
   "outputs": [],
   "source": [
    "i = 0\n",
    "\n",
    "while i<5 :\n",
    "    print(i)\n",
    "    i+=1 # 修改条件"
   ]
  },
  {
   "cell_type": "code",
   "execution_count": null,
   "metadata": {},
   "outputs": [],
   "source": [
    "# 如果没有写条件\n",
    "# 可能就一直在执行\n",
    "\n",
    "i = 0\n",
    "while i<5 :\n",
    "    print(i)\n",
    "    i+=1   # 没有这一行的话需要手动结束运行，very horrible"
   ]
  },
  {
   "cell_type": "code",
   "execution_count": null,
   "metadata": {},
   "outputs": [],
   "source": [
    "# 一直读取输入 除非读取的内容为空\n",
    "\n",
    "s = input()\n",
    "while s:\n",
    "    s = input()\n",
    "    print(s)"
   ]
  },
  {
   "cell_type": "markdown",
   "metadata": {},
   "source": [
    "那么我来完成最终的代码"
   ]
  },
  {
   "cell_type": "code",
   "execution_count": null,
   "metadata": {},
   "outputs": [],
   "source": [
    "# 来一个空的文件点击历史\n",
    "# 然后实现一个阅读人数和阅读量的实现\n",
    "his = [] # his = list()\n",
    "all_user = set()\n",
    "user_read = dict()\n",
    "\n",
    "reader = input()\n",
    "while reader :\n",
    "    his.append(reader)\n",
    "    if reader in all_user:\n",
    "        print(reader,'不是第一次阅读')\n",
    "        times = user_read[reader]\n",
    "        user_read[reader] = times + 1\n",
    "    else:\n",
    "        print(reader, '是第一次阅读')\n",
    "        all_user.add(reader)\n",
    "        user_read[reader] = 1\n",
    "    \n",
    "    reader = input()\n",
    "    \n",
    "print('当前点击历史：', his)\n",
    "print('当前所有用户：', all_user)\n",
    "print('当前用户点击次数：', user_read)"
   ]
  },
  {
   "cell_type": "markdown",
   "metadata": {},
   "source": [
    "## 三. 迭代"
   ]
  },
  {
   "cell_type": "markdown",
   "metadata": {},
   "source": [
    "### 1. range\n",
    "`range`方法的完整参数：  \n",
    "```\n",
    "range(start, end, step = 1)\n",
    "```\n",
    "\n",
    "如果只给定两个参数，省略step，则step默认值为1."
   ]
  },
  {
   "cell_type": "code",
   "execution_count": null,
   "metadata": {},
   "outputs": [],
   "source": [
    "# range(end)\n",
    "# for i in range(10): \n",
    "\n",
    "# range(start, end)\n",
    "# for i in range(0,10):\n",
    "\n",
    "# range(start, end)\n",
    "# for i in range(1,10):\n",
    "\n",
    "# range(start, end, step = 2)\n",
    "for i in range(1,10,2):\n",
    "    print(i)"
   ]
  },
  {
   "cell_type": "markdown",
   "metadata": {},
   "source": [
    "### 2. iter*\n",
    "序列化的对象除了使用索引进行迭代之外，还可以使用迭代器`iter()`来实现。  \n",
    "简单讲，就是说有一个`next`方法，能一个个取出序列中的每个元素。  "
   ]
  },
  {
   "cell_type": "code",
   "execution_count": null,
   "metadata": {},
   "outputs": [],
   "source": [
    "ourlist = list(range(10))\n",
    "it = iter(ourlist)\n",
    "print(next(it))\n",
    "print(next(it))"
   ]
  },
  {
   "cell_type": "code",
   "execution_count": null,
   "metadata": {},
   "outputs": [],
   "source": [
    "mylist = [123, 'xyz', 45.67]\n",
    "# 对序列对象生成一个迭代器对象\n",
    "i = iter(mylist)\n",
    "# 开始迭代得到元素\n",
    "next(i)"
   ]
  },
  {
   "cell_type": "code",
   "execution_count": null,
   "metadata": {},
   "outputs": [],
   "source": [
    "next(i)"
   ]
  },
  {
   "cell_type": "code",
   "execution_count": null,
   "metadata": {},
   "outputs": [],
   "source": [
    "next(i)"
   ]
  },
  {
   "cell_type": "code",
   "execution_count": null,
   "metadata": {},
   "outputs": [],
   "source": [
    "next(i)"
   ]
  },
  {
   "cell_type": "markdown",
   "metadata": {},
   "source": [
    "### 3. zip*\n",
    "顾名思义就是压缩的意思，它的语法如下：  \n",
    "``` python\n",
    "zip([iterable, ...]) # iterable 可迭代的 也就是序列对象 比如list tuple 等等\n",
    "```\n",
    "直接含义就是，依次从后面这些对象中分别拿一个元素出来拼成一个元组。它返回的是一个元组  "
   ]
  },
  {
   "cell_type": "code",
   "execution_count": null,
   "metadata": {},
   "outputs": [],
   "source": [
    "names = ['李雷', '韩梅梅']\n",
    "ages = [25, 24]\n",
    "\n",
    "# zip(names, ages)\n",
    "# list(zip(names, ages))\n",
    "i = iter(zip(names, ages))\n",
    "print(next(i))\n",
    "\n",
    "dict(zip(names, ages)) # 这是非常常用的小技巧"
   ]
  },
  {
   "cell_type": "markdown",
   "metadata": {},
   "source": [
    "比如在自然语言处理领域来说，计算机只能处理数值01计算，计算机没有办法理解单词。  \n",
    "所以我们常常使用数字来表示单词，一个单词一个唯一的ID。**ID的含义：唯一性**"
   ]
  },
  {
   "cell_type": "markdown",
   "metadata": {},
   "source": [
    "## 四. 进阶技巧*\n",
    "### 列表解析"
   ]
  },
  {
   "cell_type": "markdown",
   "metadata": {},
   "source": [
    "如何快速生成一个按一定条件生成元素的列表？  \n",
    "比如如何生成2的5次方到10次方的列表  "
   ]
  },
  {
   "cell_type": "code",
   "execution_count": null,
   "metadata": {},
   "outputs": [],
   "source": [
    "# 简单的写法就是：\n",
    "mylist = []\n",
    "for i in range(5,11):\n",
    "    mylist.append(2**i)\n",
    "print(mylist)"
   ]
  },
  {
   "cell_type": "code",
   "execution_count": null,
   "metadata": {},
   "outputs": [],
   "source": [
    "# 写成列表解析就是\n",
    "[2**i for i in range(5,11)]"
   ]
  },
  {
   "cell_type": "markdown",
   "metadata": {},
   "source": [
    "列表解析能简化代码，同时能够提升运行速度(这里就不在演示了)。  \n",
    "列表解析的语法是：  \n",
    "``` python\n",
    "[expr for i in iterable] # [表达式 for i in 序列]\n",
    "```\n"
   ]
  },
  {
   "cell_type": "code",
   "execution_count": null,
   "metadata": {},
   "outputs": [],
   "source": [
    "print(list(range(10)))\n",
    "\n",
    "li = []\n",
    "for i in range(10):\n",
    "    li.append(i)\n",
    "print(li)\n",
    "    \n",
    "ourlist = [i for i in range(10)]\n",
    "print(ourlist)"
   ]
  },
  {
   "cell_type": "code",
   "execution_count": null,
   "metadata": {},
   "outputs": [],
   "source": [
    "class_1 = ['张一','张二','张三','张四','张五']\n",
    "\n",
    "unknow_list =  [print(i,'到！') for i in class_1]\n",
    "print(unknow_list)"
   ]
  },
  {
   "cell_type": "markdown",
   "metadata": {},
   "source": [
    "# 作业"
   ]
  },
  {
   "cell_type": "markdown",
   "metadata": {},
   "source": [
    "## 1. 实现一周的记账功能\n",
    "首先记录输入的7天的收入，然后记录输入的7天的支出。  \n",
    "然后打印出以下内容：\n",
    "- 7天的收入(list)\n",
    "- 7天的支出(list)\n",
    "- 每天的结余(dict)\n",
    "- 最终的结余"
   ]
  },
  {
   "cell_type": "markdown",
   "metadata": {},
   "source": [
    "## 2. 实现ATM机器\n",
    "- 查询余额\n",
    "- 存款\n",
    "- 取款\n",
    "- 退出"
   ]
  },
  {
   "cell_type": "markdown",
   "metadata": {},
   "source": [
    "continue 关于for while循环的使用"
   ]
  },
  {
   "cell_type": "markdown",
   "metadata": {},
   "source": [
    "## 3. 词汇表生成及统计\n",
    "  \n",
    "下面是一段[文本](http://baijiahao.baidu.com/s?id=1646569900805781240&wfr=spider&for=pc)：\n",
    "\n",
    "> 2019年十月一日上午，庆祝中华人民共和国成立70周年阅兵式在首都北京盛大举行，59个阅兵方阵，580台受阅装备，1.5万人的参阅队伍接受了全国人民的检阅。阅兵装备方队展示的武器装备皆为国产现役主战装备，40%为首次展示。其中近些年来广受全球关注的东风41洲际弹道导弹，巨浪二潜射弹道导弹，东风17高超音速武器系统终于揭幕亮剑，以\"不怒自威\"的形象向世界展示中国捍卫和平的意志与力量。相较于其他首度公开亮相的武器装备，这三款武器多年来传闻不断，备受关注，并因其\"大国基石\"的地位而被公众赋予特殊的期待，这三款武器装备实力究竟如何，又各自承担着怎样的历史\"使命\"呢？本报特约相关领域军事专家，为大家详细解读这三款彰显国威，震撼世界的国之重器。 \n",
    "\n",
    "经过分词后得到以下单词，通过空格分隔。\n",
    "\n",
    "```\n",
    "text = '2019 年 十月 一日 上午 ， 庆祝 中华人民共和国 成立 70 周年 阅兵式 在 首都北京 盛大举行 ， 59 个 阅兵 方阵 ， 580 台受 阅 装备 ， 1.5 万人 的 参阅 队伍 接受 了 全国 人民 的 检阅 。 阅兵 装备 方队 展示 的 武器装备 皆 为 国产 现役 主战 装备 ， 40% 为 首次 展示 。 其中 近些年来 广受 全球 关注 的 东风 41 洲际 弹道导弹 ， 巨浪 二潜射 弹道导弹 ， 东风 17 高超音速 武器 系统 终于 揭幕 亮剑 ， 以 \" 不怒 自威 \" 的 形象 向 世界 展示 中国 捍卫 和平 的 意志 与 力量 。 相较 于 其他 首度 公开 亮相 的 武器装备 ， 这 三款 武器 多年 来 传闻 不断 ， 备受 关注 ， 并 因 其 \" 大国 基石 \" 的 地位 而 被 公众 赋予 特殊 的 期待 ， 这 三款 武器装备 实力 究竟 如何 ， 又 各自 承担 着 怎样 的 历史 \" 使命 \" 呢 ？ 本报 特约 相关 领域 军事 专家 ， 为 大家 详细 解读 这 三款 彰显 国威 ， 震撼 世界 的 国 之 重器 。'\n",
    "```\n",
    "\n",
    "将文本生成词汇表(单词list)，单词对应ID的dict，以及ID对应单词的dict。\n",
    "将你的程序变成一个盒子，输入就是上面一段文本，盒子内部：首先将文本转换成单词列表，再得到统计的单词表(去重)，然后得到单词ID相互对应的字典。  \n",
    "效果如下：  \n",
    "\n",
    "```\n",
    "vocab = ['大家', '中国', '捍卫', ...]\n",
    "word2id = {'大家': 0, '中国': 1, '捍卫': 2, ...}\n",
    "id2word = {0: '大家', 1: '中国', 2: '捍卫', ...}\n",
    "```"
   ]
  },
  {
   "cell_type": "code",
   "execution_count": null,
   "metadata": {},
   "outputs": [],
   "source": []
  }
 ],
 "metadata": {
  "kernelspec": {
   "display_name": "Python 3",
   "language": "python",
   "name": "python3"
  },
  "language_info": {
   "codemirror_mode": {
    "name": "ipython",
    "version": 3
   },
   "file_extension": ".py",
   "mimetype": "text/x-python",
   "name": "python",
   "nbconvert_exporter": "python",
   "pygments_lexer": "ipython3",
   "version": "3.7.4"
  },
  "toc-showcode": false,
  "toc-showtags": false
 },
 "nbformat": 4,
 "nbformat_minor": 4
}
